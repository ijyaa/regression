{
 "cells": [
  {
   "cell_type": "code",
   "execution_count": 3,
   "metadata": {},
   "outputs": [],
   "source": [
    "import numpy as np\n",
    "import pandas as pd\n",
    "from pandas import ExcelWriter\n",
    "from pandas import ExcelFile\n",
    "import scipy \n",
    "import sklearn\n",
    "import matplotlib.pyplot as plt\n",
    "import seaborn as sns \n",
    "%matplotlib inline"
   ]
  },
  {
   "cell_type": "code",
   "execution_count": 4,
   "metadata": {},
   "outputs": [],
   "source": [
    "df = pd.read_excel('colorado_final.xlsx')"
   ]
  },
  {
   "cell_type": "code",
   "execution_count": 5,
   "metadata": {},
   "outputs": [],
   "source": [
    "df.columns = ['City', 'Population', 'Violent Crime', 'Murder', 'Rape', 'Robbery', 'Assault', 'Property Crime', 'Burgalry', 'Larcency', 'Motor', 'Arson']"
   ]
  },
  {
   "cell_type": "code",
   "execution_count": 6,
   "metadata": {},
   "outputs": [
    {
     "data": {
      "text/html": [
       "<div>\n",
       "<style scoped>\n",
       "    .dataframe tbody tr th:only-of-type {\n",
       "        vertical-align: middle;\n",
       "    }\n",
       "\n",
       "    .dataframe tbody tr th {\n",
       "        vertical-align: top;\n",
       "    }\n",
       "\n",
       "    .dataframe thead th {\n",
       "        text-align: right;\n",
       "    }\n",
       "</style>\n",
       "<table border=\"1\" class=\"dataframe\">\n",
       "  <thead>\n",
       "    <tr style=\"text-align: right;\">\n",
       "      <th></th>\n",
       "      <th>City</th>\n",
       "      <th>Population</th>\n",
       "      <th>Violent Crime</th>\n",
       "      <th>Murder</th>\n",
       "      <th>Rape</th>\n",
       "      <th>Robbery</th>\n",
       "      <th>Assault</th>\n",
       "      <th>Property Crime</th>\n",
       "      <th>Burgalry</th>\n",
       "      <th>Larcency</th>\n",
       "      <th>Motor</th>\n",
       "      <th>Arson</th>\n",
       "    </tr>\n",
       "  </thead>\n",
       "  <tbody>\n",
       "    <tr>\n",
       "      <th>0</th>\n",
       "      <td>Arvada</td>\n",
       "      <td>110792</td>\n",
       "      <td>163</td>\n",
       "      <td>0</td>\n",
       "      <td>33</td>\n",
       "      <td>34</td>\n",
       "      <td>96</td>\n",
       "      <td>2666</td>\n",
       "      <td>331</td>\n",
       "      <td>2138</td>\n",
       "      <td>197</td>\n",
       "      <td>22</td>\n",
       "    </tr>\n",
       "    <tr>\n",
       "      <th>1</th>\n",
       "      <td>Aspen</td>\n",
       "      <td>6685</td>\n",
       "      <td>14</td>\n",
       "      <td>0</td>\n",
       "      <td>5</td>\n",
       "      <td>0</td>\n",
       "      <td>9</td>\n",
       "      <td>314</td>\n",
       "      <td>17</td>\n",
       "      <td>286</td>\n",
       "      <td>11</td>\n",
       "      <td>0</td>\n",
       "    </tr>\n",
       "    <tr>\n",
       "      <th>2</th>\n",
       "      <td>Ault</td>\n",
       "      <td>1565</td>\n",
       "      <td>0</td>\n",
       "      <td>0</td>\n",
       "      <td>0</td>\n",
       "      <td>0</td>\n",
       "      <td>0</td>\n",
       "      <td>2</td>\n",
       "      <td>0</td>\n",
       "      <td>0</td>\n",
       "      <td>2</td>\n",
       "      <td>0</td>\n",
       "    </tr>\n",
       "    <tr>\n",
       "      <th>3</th>\n",
       "      <td>Aurora</td>\n",
       "      <td>343484</td>\n",
       "      <td>1436</td>\n",
       "      <td>23</td>\n",
       "      <td>224</td>\n",
       "      <td>468</td>\n",
       "      <td>721</td>\n",
       "      <td>10786</td>\n",
       "      <td>1981</td>\n",
       "      <td>7805</td>\n",
       "      <td>1000</td>\n",
       "      <td>80</td>\n",
       "    </tr>\n",
       "    <tr>\n",
       "      <th>4</th>\n",
       "      <td>Avon</td>\n",
       "      <td>6336</td>\n",
       "      <td>9</td>\n",
       "      <td>0</td>\n",
       "      <td>3</td>\n",
       "      <td>0</td>\n",
       "      <td>6</td>\n",
       "      <td>140</td>\n",
       "      <td>12</td>\n",
       "      <td>124</td>\n",
       "      <td>4</td>\n",
       "      <td>1</td>\n",
       "    </tr>\n",
       "  </tbody>\n",
       "</table>\n",
       "</div>"
      ],
      "text/plain": [
       "     City  Population  Violent Crime  Murder  Rape  Robbery  Assault  \\\n",
       "0  Arvada      110792            163       0    33       34       96   \n",
       "1   Aspen        6685             14       0     5        0        9   \n",
       "2    Ault        1565              0       0     0        0        0   \n",
       "3  Aurora      343484           1436      23   224      468      721   \n",
       "4    Avon        6336              9       0     3        0        6   \n",
       "\n",
       "   Property Crime  Burgalry  Larcency  Motor  Arson  \n",
       "0            2666       331      2138    197     22  \n",
       "1             314        17       286     11      0  \n",
       "2               2         0         0      2      0  \n",
       "3           10786      1981      7805   1000     80  \n",
       "4             140        12       124      4      1  "
      ]
     },
     "execution_count": 6,
     "metadata": {},
     "output_type": "execute_result"
    }
   ],
   "source": [
    "df.head()"
   ]
  },
  {
   "cell_type": "code",
   "execution_count": 7,
   "metadata": {},
   "outputs": [],
   "source": [
    "features = pd.get_dummies(df['Murder'])\n",
    "features['Murder_Rate'] = np.where(df['Murder']>= 1, 1, 0)"
   ]
  },
  {
   "cell_type": "code",
   "execution_count": 8,
   "metadata": {},
   "outputs": [
    {
     "name": "stdout",
     "output_type": "stream",
     "text": [
      "             count      mean       std  min  25%  50%  75%   max\n",
      "Murder_Rate                                                     \n",
      "0            111.0  0.000000  0.000000  0.0  0.0  0.0  0.0   0.0\n",
      "1             24.0  5.583333  9.810893  1.0  1.0  2.0  5.0  40.0\n"
     ]
    }
   ],
   "source": [
    "print(df['Murder'].groupby(features['Murder_Rate']).describe())"
   ]
  },
  {
   "cell_type": "code",
   "execution_count": 10,
   "metadata": {},
   "outputs": [
    {
     "name": "stdout",
     "output_type": "stream",
     "text": [
      "              count       mean         std  min  25%  50%   75%     max\n",
      "Robbery_Rate                                                           \n",
      "0              71.0   0.000000    0.000000  0.0  0.0  0.0   0.0     0.0\n",
      "1              64.0  45.671875  160.277642  1.0  1.0  3.5  19.0  1132.0\n"
     ]
    }
   ],
   "source": [
    "features['Robbery_Rate'] = np.where(df['Robbery'] >= 1, 1, 0)\n",
    "print(df['Robbery'].groupby(features['Robbery_Rate']).describe())"
   ]
  },
  {
   "cell_type": "code",
   "execution_count": 11,
   "metadata": {},
   "outputs": [],
   "source": [
    "features['Population_Square'] = df['Population'] ** 2"
   ]
  },
  {
   "cell_type": "code",
   "execution_count": 12,
   "metadata": {},
   "outputs": [
    {
     "data": {
      "image/png": "[encoded data removed]",
      "text/plain": [
       "<Figure size 432x288 with 1 Axes>"
      ]
     },
     "metadata": {
      "needs_background": "light"
     },
     "output_type": "display_data"
    }
   ],
   "source": [
    "x = df['Population']\n",
    "y = df['Property Crime']\n",
    "plt.scatter(x,y)\n",
    "plt.show()"
   ]
  },
  {
   "cell_type": "code",
   "execution_count": 13,
   "metadata": {},
   "outputs": [],
   "source": [
    "features['Population_Segment'] = df.loc[df['Population'] < 200000, 'Population']"
   ]
  },
  {
   "cell_type": "code",
   "execution_count": 14,
   "metadata": {},
   "outputs": [
    {
     "data": {
      "image/png": "[encoded data removed]",
      "text/plain": [
       "<Figure size 432x288 with 1 Axes>"
      ]
     },
     "metadata": {
      "needs_background": "light"
     },
     "output_type": "display_data"
    }
   ],
   "source": [
    "x = features['Population_Segment']\n",
    "y = df['Property Crime']\n",
    "plt.scatter(x,y)\n",
    "plt.xlabel('Population')\n",
    "plt.ylabel('Property Crime')\n",
    "plt.show()"
   ]
  },
  {
   "cell_type": "code",
   "execution_count": 15,
   "metadata": {},
   "outputs": [],
   "source": [
    "from sklearn import linear_model\n",
    "%matplotlib inline\n",
    "pd.options.display.float_format = '{:.3f}'.format\n",
    "import warnings\n",
    "warnings.filterwarnings(action=\"ignore\", module=\"scipy\", message=\"^internal gelsd\")"
   ]
  },
  {
   "cell_type": "code",
   "execution_count": 16,
   "metadata": {},
   "outputs": [
    {
     "name": "stdout",
     "output_type": "stream",
     "text": [
      "\n",
      "Coefficients: \n",
      " [[ 0.02873714 14.29751819  5.05322771]]\n",
      "\n",
      "Intercept: \n",
      " [-38.39153525]\n",
      "\n",
      "R-squared:\n",
      "0.9630837826662033\n"
     ]
    }
   ],
   "source": [
    "#Comparing Property Crime to Murder and Robbery and Population \n",
    "\n",
    "regr = linear_model.LinearRegression()\n",
    "Y = df['Property Crime'].values.reshape(-1, 1)\n",
    "X = df[['Population', 'Murder', 'Robbery']]\n",
    "regr.fit(X, Y)\n",
    "print('\\nCoefficients: \\n', regr.coef_)\n",
    "print('\\nIntercept: \\n', regr.intercept_)\n",
    "print('\\nR-squared:')\n",
    "print(regr.score(X,Y))"
   ]
  },
  {
   "cell_type": "code",
   "execution_count": 19,
   "metadata": {},
   "outputs": [],
   "source": [
    "data = X \n",
    "target = Y "
   ]
  },
  {
   "cell_type": "code",
   "execution_count": 26,
   "metadata": {},
   "outputs": [
    {
     "name": "stdout",
     "output_type": "stream",
     "text": [
      "(108, 3) (108, 1)\n",
      "(27, 3) (27, 1)\n"
     ]
    }
   ],
   "source": [
    "from sklearn.model_selection import train_test_split\n",
    "# Use train_test_split to create the necessary training and test groups\n",
    "X_train, X_test, y_train, y_test = train_test_split(data, target, test_size=0.2, random_state=20)\n",
    "print(X_train.shape, y_train.shape)\n",
    "print(X_test.shape, y_test.shape)"
   ]
  },
  {
   "cell_type": "code",
   "execution_count": 58,
   "metadata": {},
   "outputs": [],
   "source": [
    "lm = linear_model.LinearRegression()\n",
    "model = lm.fit(X_train, y_train)\n",
    "sample = lm.fit(data, target)\n",
    "predictions = lm.predict(X_test)"
   ]
  },
  {
   "cell_type": "code",
   "execution_count": 59,
   "metadata": {},
   "outputs": [
    {
     "data": {
      "text/plain": [
       "array([[ -12.0395754 ],\n",
       "       [ 300.52390561],\n",
       "       [ 337.33758664],\n",
       "       [ 468.95370016],\n",
       "       [  74.28680124],\n",
       "       [ 219.519811  ],\n",
       "       [ -27.61510674],\n",
       "       [  52.61448625],\n",
       "       [3317.26372005],\n",
       "       [ 117.28370618]])"
      ]
     },
     "execution_count": 59,
     "metadata": {},
     "output_type": "execute_result"
    }
   ],
   "source": [
    "predictions[0:10]"
   ]
  },
  {
   "cell_type": "code",
   "execution_count": 32,
   "metadata": {},
   "outputs": [
    {
     "data": {
      "text/plain": [
       "Text(0, 0.5, 'Predictions')"
      ]
     },
     "execution_count": 32,
     "metadata": {},
     "output_type": "execute_result"
    },
    {
     "data": {
      "image/png": "[encoded data removed]",
      "text/plain": [
       "<Figure size 432x288 with 1 Axes>"
      ]
     },
     "metadata": {
      "needs_background": "light"
     },
     "output_type": "display_data"
    }
   ],
   "source": [
    "plt.scatter(y_test, predictions)\n",
    "plt.xlabel(\"True Values\")\n",
    "plt.ylabel(\"Predictions\")"
   ]
  },
  {
   "cell_type": "code",
   "execution_count": 63,
   "metadata": {},
   "outputs": [
    {
     "name": "stdout",
     "output_type": "stream",
     "text": [
      " 20% Hold Out Score 0.8065189115833553\n",
      "Overall Sample Score:  0.9630837826662033\n"
     ]
    }
   ],
   "source": [
    "#Accuracy of Model Score with 20% hold out vs Sample\n",
    "\n",
    "print(\" 20% Hold Out Score\", model.score(X_test, y_test))\n",
    "print(\"Overall Sample Score: \", sample.score(data, target))"
   ]
  },
  {
   "cell_type": "code",
   "execution_count": 66,
   "metadata": {},
   "outputs": [
    {
     "name": "stdout",
     "output_type": "stream",
     "text": [
      "Cross-Validated Scores:  [0.87160743 0.92685317 0.9439065  0.87908228 0.63038391 0.93896423]\n"
     ]
    }
   ],
   "source": [
    "# There is over fitting based on variance on the data \n",
    "\n",
    "from sklearn.model_selection import cross_val_score\n",
    "scores = cross_val_score(model, data, target, cv = 6)\n",
    "print(\"Cross-Validated Scores: \", scores)"
   ]
  },
  {
   "cell_type": "code",
   "execution_count": 67,
   "metadata": {},
   "outputs": [
    {
     "data": {
      "image/png": "[encoded data removed]",
      "text/plain": [
       "<Figure size 432x288 with 1 Axes>"
      ]
     },
     "metadata": {
      "needs_background": "light"
     },
     "output_type": "display_data"
    }
   ],
   "source": [
    "from sklearn.model_selection import cross_val_predict\n",
    "predictions = cross_val_predict(model, data, target, cv = 6)\n",
    "plt.scatter(target, predictions)\n",
    "plt.show()"
   ]
  },
  {
   "cell_type": "code",
   "execution_count": 52,
   "metadata": {},
   "outputs": [
    {
     "name": "stdout",
     "output_type": "stream",
     "text": [
      "Cross-Predicted Accuracy 0.9075654914365264\n"
     ]
    }
   ],
   "source": [
    "# This is R squared which indicates the proprtion of the variance in the dependent variable that is predictable from the independent variable\n",
    "from sklearn import metrics\n",
    "accuracy = metrics.r2_score(target, predictions)\n",
    "print(\"Cross-Predicted Accuracy\", accuracy)"
   ]
  },
  {
   "cell_type": "code",
   "execution_count": null,
   "metadata": {},
   "outputs": [],
   "source": []
  }
 ],
 "metadata": {
  "kernelspec": {
   "display_name": "Python 3",
   "language": "python",
   "name": "python3"
  },
  "language_info": {
   "codemirror_mode": {
    "name": "ipython",
    "version": 3
   },
   "file_extension": ".py",
   "mimetype": "text/x-python",
   "name": "python",
   "nbconvert_exporter": "python",
   "pygments_lexer": "ipython3",
   "version": "3.7.1"
  }
 },
 "nbformat": 4,
 "nbformat_minor": 2
}
